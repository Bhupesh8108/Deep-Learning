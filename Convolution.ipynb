{
 "cells": [
  {
   "cell_type": "code",
   "execution_count": 3,
   "id": "4fc941e6-7d72-449b-8356-a9df711ef124",
   "metadata": {},
   "outputs": [],
   "source": [
    "import tensorflow as tf\n",
    "from tensorflow import keras\n",
    "from keras import layers"
   ]
  },
  {
   "cell_type": "code",
   "execution_count": 45,
   "id": "4d63c987-bf7d-4196-bc65-c65a6d7a7503",
   "metadata": {},
   "outputs": [
    {
     "data": {
      "text/plain": [
       "array([0], dtype=uint8)"
      ]
     },
     "execution_count": 45,
     "metadata": {},
     "output_type": "execute_result"
    },
    {
     "data": {
      "image/png": "[encoded data removed]",
      "text/plain": [
       "<Figure size 640x480 with 1 Axes>"
      ]
     },
     "metadata": {},
     "output_type": "display_data"
    }
   ],
   "source": [
    "(x,y),(xt,yt) = keras.datasets.cifar10.load_data()\n",
    "from matplotlib import pyplot as plt\n",
    "plt.imshow(x[189])\n",
    "y[189]"
   ]
  },
  {
   "cell_type": "code",
   "execution_count": 58,
   "id": "7d375834-44db-450f-bb33-869eff78962b",
   "metadata": {},
   "outputs": [
    {
     "data": {
      "text/plain": [
       "(50000, 32, 32, 3)"
      ]
     },
     "execution_count": 58,
     "metadata": {},
     "output_type": "execute_result"
    }
   ],
   "source": [
    "x.shape\n"
   ]
  },
  {
   "cell_type": "code",
   "execution_count": 99,
   "id": "ca3929cf-68f2-425b-82eb-8bb68de00aec",
   "metadata": {},
   "outputs": [
    {
     "name": "stdout",
     "output_type": "stream",
     "text": [
      "Epoch 1/10\n",
      "1563/1563 [==============================] - 37s 23ms/step - loss: 2.0236 - accuracy: 0.4226\n",
      "Epoch 2/10\n",
      "1563/1563 [==============================] - 36s 23ms/step - loss: 1.2652 - accuracy: 0.5506\n",
      "Epoch 3/10\n",
      "1563/1563 [==============================] - 36s 23ms/step - loss: 1.0794 - accuracy: 0.6246\n",
      "Epoch 4/10\n",
      "1563/1563 [==============================] - 36s 23ms/step - loss: 0.9401 - accuracy: 0.6745\n",
      "Epoch 5/10\n",
      "1563/1563 [==============================] - 36s 23ms/step - loss: 0.8310 - accuracy: 0.7127\n",
      "Epoch 6/10\n",
      "1563/1563 [==============================] - 36s 23ms/step - loss: 0.7315 - accuracy: 0.7459\n",
      "Epoch 7/10\n",
      "1563/1563 [==============================] - 36s 23ms/step - loss: 0.6508 - accuracy: 0.7742\n",
      "Epoch 8/10\n",
      "1563/1563 [==============================] - 36s 23ms/step - loss: 0.5717 - accuracy: 0.8026\n",
      "Epoch 9/10\n",
      "1563/1563 [==============================] - 36s 23ms/step - loss: 0.4975 - accuracy: 0.8279\n",
      "Epoch 10/10\n",
      "1563/1563 [==============================] - 36s 23ms/step - loss: 0.4398 - accuracy: 0.8487\n"
     ]
    },
    {
     "data": {
      "text/plain": [
       "<keras.callbacks.History at 0x7f1ef541c8e0>"
      ]
     },
     "execution_count": 99,
     "metadata": {},
     "output_type": "execute_result"
    }
   ],
   "source": [
    "model = keras.Sequential()\n",
    "model.add(layers.Conv2D(filters = 100 ,kernel_size = (2,2),activation = 'relu',input_shape = (32,32,3,)))\n",
    "model.add(layers.MaxPooling2D((2,2)))\n",
    "model.add(layers.Conv2D(filters = 200 ,kernel_size = (2,2),activation = 'relu'))\n",
    "model.add(layers.MaxPooling2D((2,2)))\n",
    "model.add(layers.Flatten())\n",
    "model.add(keras.layers.Dense(100,activation = 'relu'))\n",
    "# model.add(keras.layers.Dense(30,activation = 'relu'))\n",
    "model.add(keras.layers.Dense(10,activation = 'softmax'))\n",
    "model.compile(optimizer = 'adam' ,loss = 'sparse_categorical_crossentropy',metrics = ['accuracy'])\n",
    "model.fit(x,y,epochs =10)\n"
   ]
  },
  {
   "cell_type": "code",
   "execution_count": 101,
   "id": "71159a83-15e4-4fd3-901f-63523c93d75d",
   "metadata": {},
   "outputs": [
    {
     "name": "stdout",
     "output_type": "stream",
     "text": [
      "313/313 [==============================] - 3s 10ms/step\n"
     ]
    },
    {
     "data": {
      "text/plain": [
       "array([[792,  23,  38,  27,  14,   4,  14,  11,  52,  25],\n",
       "       [ 46, 778,   4,  16,   3,   3,   7,   6,  30, 107],\n",
       "       [ 90,   6, 543,  79,  75,  41,  90,  42,  21,  13],\n",
       "       [ 60,  10,  80, 510,  52, 110,  83,  39,  30,  26],\n",
       "       [ 47,   8, 113, 107, 516,  21, 108,  60,  10,  10],\n",
       "       [ 33,  10,  84, 244,  43, 431,  51,  70,  17,  17],\n",
       "       [ 11,   9,  51,  89,  24,   9, 788,   6,   9,   4],\n",
       "       [ 37,   9,  35,  72,  67,  45,  25, 672,  10,  28],\n",
       "       [138,  38,  14,  28,   3,   4,   2,   4, 737,  32],\n",
       "       [ 55, 106,  10,  24,  10,   1,  17,  13,  36, 728]])"
      ]
     },
     "execution_count": 101,
     "metadata": {},
     "output_type": "execute_result"
    }
   ],
   "source": [
    "from sklearn.metrics import confusion_matrix , accuracy_score,classification_report\n",
    "import numpy as  np\n",
    "pred = model.predict(xt)\n",
    "pred = [np.argmax(i) for i in pred]\n",
    "confusion_matrix(yt,pred)"
   ]
  },
  {
   "cell_type": "code",
   "execution_count": 102,
   "id": "05bc9e33-c248-4e9a-8069-dda7f6bd53e3",
   "metadata": {},
   "outputs": [
    {
     "data": {
      "text/plain": [
       "0.6495"
      ]
     },
     "execution_count": 102,
     "metadata": {},
     "output_type": "execute_result"
    }
   ],
   "source": [
    "accuracy_score(yt,pred)"
   ]
  },
  {
   "cell_type": "code",
   "execution_count": 103,
   "id": "d6b25a0d-6a89-4fb5-92df-2ec44642ca12",
   "metadata": {},
   "outputs": [],
   "source": [
    "# classification_report(yt,pred)"
   ]
  }
 ],
 "metadata": {
  "kernelspec": {
   "display_name": "Python 3 (ipykernel)",
   "language": "python",
   "name": "python3"
  },
  "language_info": {
   "codemirror_mode": {
    "name": "ipython",
    "version": 3
   },
   "file_extension": ".py",
   "mimetype": "text/x-python",
   "name": "python",
   "nbconvert_exporter": "python",
   "pygments_lexer": "ipython3",
   "version": "3.10.7"
  }
 },
 "nbformat": 4,
 "nbformat_minor": 5
}
