{
 "cells": [
  {
   "cell_type": "code",
   "execution_count": 7,
   "id": "4fc941e6-7d72-449b-8356-a9df711ef124",
   "metadata": {},
   "outputs": [],
   "source": [
    "import tensorflow as tf\n",
    "from tensorflow import keras\n",
    "from keras import layers"
   ]
  },
  {
   "cell_type": "code",
   "execution_count": 8,
   "id": "4d63c987-bf7d-4196-bc65-c65a6d7a7503",
   "metadata": {},
   "outputs": [
    {
     "data": {
      "text/plain": [
       "array([7], dtype=uint8)"
      ]
     },
     "execution_count": 8,
     "metadata": {},
     "output_type": "execute_result"
    },
    {
     "data": {
      "image/png": "[encoded data removed]",
      "text/plain": [
       "<Figure size 100x100 with 1 Axes>"
      ]
     },
     "metadata": {},
     "output_type": "display_data"
    }
   ],
   "source": [
    "(x,y),(xt,yt) = keras.datasets.cifar10.load_data()\n",
    "from matplotlib import pyplot as plt\n",
    "import random\n",
    "lis = ['Aeroplane','Car','Bird','Cat','Deer','Dog','Frog','Horse','Ship','Truck']\n",
    "a  = random.randint(1,5500)\n",
    "plt.figure(figsize = (1,1))\n",
    "plt.imshow(x[a])\n",
    "y[a]"
   ]
  },
  {
   "cell_type": "code",
   "execution_count": null,
   "id": "7d375834-44db-450f-bb33-869eff78962b",
   "metadata": {},
   "outputs": [],
   "source": [
    "\n"
   ]
  },
  {
   "cell_type": "code",
   "execution_count": null,
   "id": "ca3929cf-68f2-425b-82eb-8bb68de00aec",
   "metadata": {},
   "outputs": [
    {
     "name": "stdout",
     "output_type": "stream",
     "text": [
      "Epoch 1/20\n",
      " 144/1563 [=>............................] - ETA: 17s - loss: 3.1693 - accuracy: 0.1072"
     ]
    }
   ],
   "source": [
    "import datetime\n",
    "a = datetime.datetime.now()\n",
    "model = keras.Sequential()\n",
    "model.add(layers.Conv2D(filters = 100 ,kernel_size = (2,2),activation = 'relu',input_shape = (32,32,3,)))\n",
    "model.add(layers.MaxPooling2D((3,3)))\n",
    "model.add(layers.Conv2D(filters = 20 ,kernel_size = (2,2),activation = 'relu'))\n",
    "model.add(layers.MaxPooling2D((3,3)))\n",
    "model.add(layers.Flatten())\n",
    "model.add(keras.layers.Dense(1000,activation = 'relu'))\n",
    "model.add(layers.Dropout(.2))\n",
    "# model.add(keras.layers.Dense(30,activation = 'relu'))\n",
    "model.add(keras.layers.Dense(10,activation = 'sigmoid'))\n",
    "model.compile(optimizer = 'adam' ,loss = 'sparse_categorical_crossentropy',metrics = ['accuracy'])\n",
    "model.fit(x,y,epochs =20)\n",
    "b = datetime.datetime.now()\n",
    "b-a"
   ]
  },
  {
   "cell_type": "code",
   "execution_count": null,
   "id": "fbff5df2-8c19-4ef2-b4c8-cbaf8aa7b63e",
   "metadata": {},
   "outputs": [],
   "source": [
    "model = keras.Sequential()\n",
    "model.add(layers.Conv2D(filters = 25 ,kernel_size = (2,2),activation = 'relu',input_shape = (32,32,3,)))\n",
    "model.add(layers.MaxPooling2D((3,3)))\n",
    "model.add(layers.Conv2D(filters = 50 ,kernel_size = (2,2),activation = 'relu'))\n",
    "model.add(layers.MaxPooling2D((3,3)))\n",
    "model.add(layers.Flatten())\n",
    "model.add(keras.layers.Dense(1000,activation = 'relu'))\n",
    "# model.add(keras.layers.Dense(30,activation = 'relu'))\n",
    "model.add(keras.layers.Dense(10,activation = 'softmax'))\n",
    "model.compile(optimizer = 'adam' ,loss = 'sparse_categorical_crossentropy',metrics = ['accuracy'])\n",
    "model.fit(x,y,epochs =20)\n",
    "\n"
   ]
  },
  {
   "cell_type": "code",
   "execution_count": null,
   "id": "71159a83-15e4-4fd3-901f-63523c93d75d",
   "metadata": {},
   "outputs": [],
   "source": [
    "from sklearn.metrics import confusion_matrix , accuracy_score,classification_report\n",
    "import numpy as  np\n",
    "pred = model.predict(xt)\n",
    "pred = [np.argmax(i) for i in pred]\n",
    "confusion_matrix(yt,pred)\n"
   ]
  },
  {
   "cell_type": "code",
   "execution_count": null,
   "id": "05bc9e33-c248-4e9a-8069-dda7f6bd53e3",
   "metadata": {},
   "outputs": [],
   "source": [
    "accuracy_score(yt,pred)\n",
    "# pred = \n",
    "# for i in range(len(pred)):\n",
    "#     print(pred[i],yt[i])\n",
    "def pac(pred,yt) :\n",
    "    for i in range (1,len(pred)):\n",
    "        a,b = pred[i],yt[i]\n",
    "        print(lis[a],lis[int(b)])\n",
    "# pac(pred,yt)"
   ]
  },
  {
   "cell_type": "code",
   "execution_count": null,
   "id": "d6b25a0d-6a89-4fb5-92df-2ec44642ca12",
   "metadata": {},
   "outputs": [],
   "source": [
    "print(classification_report(yt,pred))\n"
   ]
  }
 ],
 "metadata": {
  "kernelspec": {
   "display_name": "Python 3 (ipykernel)",
   "language": "python",
   "name": "python3"
  },
  "language_info": {
   "codemirror_mode": {
    "name": "ipython",
    "version": 3
   },
   "file_extension": ".py",
   "mimetype": "text/x-python",
   "name": "python",
   "nbconvert_exporter": "python",
   "pygments_lexer": "ipython3",
   "version": "3.10.7"
  }
 },
 "nbformat": 4,
 "nbformat_minor": 5
}
