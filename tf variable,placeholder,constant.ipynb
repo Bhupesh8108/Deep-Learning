{
 "cells": [
  {
   "cell_type": "code",
   "execution_count": 24,
   "id": "55767010-a40d-4343-8460-da0b3af3f9c3",
   "metadata": {},
   "outputs": [
    {
     "name": "stdout",
     "output_type": "stream",
     "text": [
      "tf.Tensor(70, shape=(), dtype=int32)\n",
      "tf.Tensor(70, shape=(), dtype=int32)\n",
      "tf.Tensor(70, shape=(), dtype=int32)\n",
      "tf.Tensor(70, shape=(), dtype=int32)\n",
      "tf.Tensor(70, shape=(), dtype=int32)\n",
      "tf.Tensor(70, shape=(), dtype=int32)\n"
     ]
    }
   ],
   "source": [
    "import tensorflow as tf\n",
    "a = tf.constant(5)\n",
    "b = tf.constant(7)\n",
    "x=10\n",
    "c = tf.Variable(x)\n",
    "for x in range(1,7):\n",
    "    print(c*b)"
   ]
  }
 ],
 "metadata": {
  "kernelspec": {
   "display_name": "Python 3 (ipykernel)",
   "language": "python",
   "name": "python3"
  },
  "language_info": {
   "codemirror_mode": {
    "name": "ipython",
    "version": 3
   },
   "file_extension": ".py",
   "mimetype": "text/x-python",
   "name": "python",
   "nbconvert_exporter": "python",
   "pygments_lexer": "ipython3",
   "version": "3.10.7"
  }
 },
 "nbformat": 4,
 "nbformat_minor": 5
}
