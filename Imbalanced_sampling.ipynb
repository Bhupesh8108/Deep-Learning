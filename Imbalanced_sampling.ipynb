{
 "cells": [
  {
   "cell_type": "code",
   "execution_count": 2,
   "id": "32cde631-5008-4edd-95e1-10ccdaf0b8d8",
   "metadata": {},
   "outputs": [
    {
     "data": {
      "text/plain": [
       "(10000, 14)"
      ]
     },
     "execution_count": 2,
     "metadata": {},
     "output_type": "execute_result"
    }
   ],
   "source": [
    "import pandas as pd\n",
    "data = pd.read_csv('/home/kali/Downloads/Churn_Modelling.csv')\n",
    "data.drop(['RowNumber','CustomerId','Surname'],inplace = True,axis = 1)\n",
    "data.sample(30)\n",
    "# data.Geography.unique()\n",
    "data = pd.get_dummies(data,columns = ['Gender','Geography'])\n",
    "x= data.drop('Exited',axis=1)\n",
    "y = data.Exited\n",
    "data.sample(5)\n",
    "from sklearn.preprocessing import MinMaxScaler\n",
    "scale = MinMaxScaler()\n",
    "data[['CreditScore','EstimatedSalary' , 'Balance','Tenure','Age']]= scale.fit_transform(data[['CreditScore','EstimatedSalary' , 'Balance','Tenure','Age']])\n",
    "data.shape\n"
   ]
  },
  {
   "cell_type": "code",
   "execution_count": null,
   "id": "6889e4f6-501b-457d-a33a-0cbff6bc6fac",
   "metadata": {},
   "outputs": [],
   "source": []
  },
  {
   "cell_type": "code",
   "execution_count": null,
   "id": "04e9cbb6-c920-4584-9e87-f3361cccf56a",
   "metadata": {},
   "outputs": [],
   "source": []
  },
  {
   "cell_type": "code",
   "execution_count": null,
   "id": "00eec993-1546-43ea-9974-03d3b2256370",
   "metadata": {},
   "outputs": [],
   "source": []
  },
  {
   "cell_type": "code",
   "execution_count": 3,
   "id": "770c3cc5-9ba8-4626-a033-866eff42007b",
   "metadata": {},
   "outputs": [
    {
     "name": "stderr",
     "output_type": "stream",
     "text": [
      "2022-10-16 16:11:03.719966: I tensorflow/core/platform/cpu_feature_guard.cc:193] This TensorFlow binary is optimized with oneAPI Deep Neural Network Library (oneDNN) to use the following CPU instructions in performance-critical operations:  AVX2 AVX512F AVX512_VNNI FMA\n",
      "To enable them in other operations, rebuild TensorFlow with the appropriate compiler flags.\n",
      "2022-10-16 16:11:03.827050: I tensorflow/core/util/util.cc:169] oneDNN custom operations are on. You may see slightly different numerical results due to floating-point round-off errors from different computation orders. To turn them off, set the environment variable `TF_ENABLE_ONEDNN_OPTS=0`.\n",
      "2022-10-16 16:11:03.829587: W tensorflow/compiler/xla/stream_executor/platform/default/dso_loader.cc:64] Could not load dynamic library 'libcudart.so.11.0'; dlerror: libcudart.so.11.0: cannot open shared object file: No such file or directory\n",
      "2022-10-16 16:11:03.829599: I tensorflow/compiler/xla/stream_executor/cuda/cudart_stub.cc:29] Ignore above cudart dlerror if you do not have a GPU set up on your machine.\n",
      "2022-10-16 16:11:04.264065: W tensorflow/compiler/xla/stream_executor/platform/default/dso_loader.cc:64] Could not load dynamic library 'libnvinfer.so.7'; dlerror: libnvinfer.so.7: cannot open shared object file: No such file or directory\n",
      "2022-10-16 16:11:04.264110: W tensorflow/compiler/xla/stream_executor/platform/default/dso_loader.cc:64] Could not load dynamic library 'libnvinfer_plugin.so.7'; dlerror: libnvinfer_plugin.so.7: cannot open shared object file: No such file or directory\n",
      "2022-10-16 16:11:04.264119: W tensorflow/compiler/tf2tensorrt/utils/py_utils.cc:38] TF-TRT Warning: Cannot dlopen some TensorRT libraries. If you would like to use Nvidia GPU with TensorRT, please make sure the missing libraries mentioned above are installed properly.\n"
     ]
    },
    {
     "name": "stdout",
     "output_type": "stream",
     "text": [
      "Epoch 1/10\n"
     ]
    },
    {
     "name": "stderr",
     "output_type": "stream",
     "text": [
      "2022-10-16 16:11:04.773928: W tensorflow/compiler/xla/stream_executor/platform/default/dso_loader.cc:64] Could not load dynamic library 'libcuda.so.1'; dlerror: libcuda.so.1: cannot open shared object file: No such file or directory\n",
      "2022-10-16 16:11:04.773944: W tensorflow/compiler/xla/stream_executor/cuda/cuda_driver.cc:265] failed call to cuInit: UNKNOWN ERROR (303)\n",
      "2022-10-16 16:11:04.773955: I tensorflow/compiler/xla/stream_executor/cuda/cuda_diagnostics.cc:156] kernel driver does not appear to be running on this host (pyhacker): /proc/driver/nvidia/version does not exist\n",
      "2022-10-16 16:11:04.774131: I tensorflow/core/platform/cpu_feature_guard.cc:193] This TensorFlow binary is optimized with oneAPI Deep Neural Network Library (oneDNN) to use the following CPU instructions in performance-critical operations:  AVX2 AVX512F AVX512_VNNI FMA\n",
      "To enable them in other operations, rebuild TensorFlow with the appropriate compiler flags.\n"
     ]
    },
    {
     "name": "stdout",
     "output_type": "stream",
     "text": [
      "235/235 [==============================] - 1s 842us/step - loss: 0.0000e+00 - accuracy: 0.5035\n",
      "Epoch 2/10\n",
      "235/235 [==============================] - 0s 837us/step - loss: 0.0000e+00 - accuracy: 0.7945\n",
      "Epoch 3/10\n",
      "235/235 [==============================] - 0s 838us/step - loss: 0.0000e+00 - accuracy: 0.7961\n",
      "Epoch 4/10\n",
      "235/235 [==============================] - 0s 823us/step - loss: 0.0000e+00 - accuracy: 0.7965\n",
      "Epoch 5/10\n",
      "235/235 [==============================] - 0s 884us/step - loss: 0.0000e+00 - accuracy: 0.7964\n",
      "Epoch 6/10\n",
      "235/235 [==============================] - 0s 802us/step - loss: 0.0000e+00 - accuracy: 0.7964\n",
      "Epoch 7/10\n",
      "235/235 [==============================] - 0s 860us/step - loss: 0.0000e+00 - accuracy: 0.7964\n",
      "Epoch 8/10\n",
      "235/235 [==============================] - 0s 874us/step - loss: 0.0000e+00 - accuracy: 0.7964\n",
      "Epoch 9/10\n",
      "235/235 [==============================] - 0s 856us/step - loss: 0.0000e+00 - accuracy: 0.7964\n",
      "Epoch 10/10\n",
      "235/235 [==============================] - 0s 886us/step - loss: 0.0000e+00 - accuracy: 0.7964\n"
     ]
    },
    {
     "data": {
      "text/plain": [
       "(7500, 13)"
      ]
     },
     "execution_count": 3,
     "metadata": {},
     "output_type": "execute_result"
    }
   ],
   "source": [
    "import tensorflow as tf\n",
    "from tensorflow import keras\n",
    "from sklearn.model_selection import train_test_split\n",
    "x,xt,y,yt = train_test_split(x,y)\n",
    "\n",
    "model = tf.keras.Sequential()\n",
    "model.add(keras.layers.Flatten(input_shape=(13,)))\n",
    "model.add (keras.layers.Dense(10,activation = 'relu'))\n",
    "model.add (keras.layers.Dense(5,activation = 'relu'))\n",
    "model.add (keras.layers.Dense(2,activation = 'relu'))\n",
    "model.add(keras.layers.Dense(1,activation = 'sigmoid'))\n",
    "model.compile(optimizer = 'adam' , loss= 'categorical_crossentropy',metrics = 'accuracy')\n",
    "model.fit(x,y,epochs = 10)\n",
    "yt.shape\n",
    "# xt.shape\n",
    "x.shape"
   ]
  },
  {
   "cell_type": "code",
   "execution_count": 4,
   "id": "0541440e-3631-4692-8997-53fdb98282fa",
   "metadata": {},
   "outputs": [
    {
     "data": {
      "text/plain": [
       "(2500, 13)"
      ]
     },
     "execution_count": 4,
     "metadata": {},
     "output_type": "execute_result"
    }
   ],
   "source": [
    "xt.shape"
   ]
  },
  {
   "cell_type": "code",
   "execution_count": 5,
   "id": "20dc7d1f-88ca-4201-9f08-b45174f6fe0c",
   "metadata": {},
   "outputs": [
    {
     "data": {
      "text/plain": [
       "(2500,)"
      ]
     },
     "execution_count": 5,
     "metadata": {},
     "output_type": "execute_result"
    }
   ],
   "source": [
    "yt.shape"
   ]
  },
  {
   "cell_type": "code",
   "execution_count": 6,
   "id": "29604595-24a4-4507-8b1c-2734799c7c94",
   "metadata": {},
   "outputs": [
    {
     "name": "stdout",
     "output_type": "stream",
     "text": [
      "79/79 [==============================] - 0s 569us/step\n"
     ]
    },
    {
     "data": {
      "text/plain": [
       "<tf.Tensor: shape=(2, 2), dtype=int32, numpy=\n",
       "array([[1990,    0],\n",
       "       [ 510,    0]], dtype=int32)>"
      ]
     },
     "execution_count": 6,
     "metadata": {},
     "output_type": "execute_result"
    }
   ],
   "source": [
    "pred = model.predict(xt)\n",
    "cm = tf.math.confusion_matrix(labels =yt, predictions =pred)\n",
    "cm"
   ]
  },
  {
   "cell_type": "code",
   "execution_count": 7,
   "id": "2d40d341-93b0-4aaf-8519-d7be8d630862",
   "metadata": {},
   "outputs": [],
   "source": [
    "from sklearn.metrics import accuracy_score,confusion_matrix\n",
    "from sklearn.model_selection import train_test_split\n",
    "from sklearn.ensemble import RandomForestClassifier\n",
    "from acc_check import accuracy\n",
    "# x,xt,y,yt = train_test_split(x,y)\n",
    "# accuracy(x,xt,y,yt)"
   ]
  },
  {
   "cell_type": "code",
   "execution_count": 8,
   "id": "45b1ecc7-46d1-4126-bd57-59204eff8a15",
   "metadata": {},
   "outputs": [
    {
     "data": {
      "text/plain": [
       "Counter({0: 2188, 1: 312})"
      ]
     },
     "execution_count": 8,
     "metadata": {},
     "output_type": "execute_result"
    }
   ],
   "source": [
    "model= RandomForestClassifier()\n",
    "model.fit(x,y)\n",
    "pred = model.predict(xt)\n",
    "# for i in pred:\n",
    "#     print(i)\n",
    "from collections import Counter\n",
    "count = Counter()\n",
    "count.update(Counter(pred))\n",
    "count"
   ]
  },
  {
   "cell_type": "code",
   "execution_count": null,
   "id": "86349f00-e2ab-4f41-aeb6-dc72ddfd7054",
   "metadata": {},
   "outputs": [],
   "source": []
  },
  {
   "cell_type": "code",
   "execution_count": 9,
   "id": "1213c1a7-a3c0-4874-b690-1f467fc99f33",
   "metadata": {},
   "outputs": [
    {
     "data": {
      "text/plain": [
       "array([[1920,  268],\n",
       "       [  70,  242]])"
      ]
     },
     "execution_count": 9,
     "metadata": {},
     "output_type": "execute_result"
    }
   ],
   "source": [
    "from sklearn.metrics import confusion_matrix\n",
    "cm = confusion_matrix(pred,yt)\n",
    "cm\n"
   ]
  },
  {
   "cell_type": "code",
   "execution_count": 10,
   "id": "c2db6822-7ff8-49b8-a2da-5e418623d208",
   "metadata": {},
   "outputs": [
    {
     "data": {
      "text/plain": [
       "0.8648"
      ]
     },
     "execution_count": 10,
     "metadata": {},
     "output_type": "execute_result"
    }
   ],
   "source": [
    "accuracy_score(pred,yt)"
   ]
  },
  {
   "cell_type": "markdown",
   "id": "19d23853-b60f-4163-a171-7048a9fecf68",
   "metadata": {
    "tags": []
   },
   "source": [
    "oversampling"
   ]
  },
  {
   "cell_type": "code",
   "execution_count": 11,
   "id": "46c1f5ba-ec7c-484a-8d94-9de661bfb869",
   "metadata": {},
   "outputs": [
    {
     "data": {
      "text/plain": [
       "0    5973\n",
       "1    1527\n",
       "Name: Exited, dtype: int64"
      ]
     },
     "execution_count": 11,
     "metadata": {},
     "output_type": "execute_result"
    }
   ],
   "source": [
    "\n",
    "y.value_counts()"
   ]
  },
  {
   "cell_type": "code",
   "execution_count": 12,
   "id": "329c5c91-007d-4504-95d0-e910794ddb94",
   "metadata": {},
   "outputs": [
    {
     "data": {
      "text/plain": [
       "(0    7963\n",
       " Name: Exited, dtype: int64,\n",
       " 1    2037\n",
       " Name: Exited, dtype: int64)"
      ]
     },
     "execution_count": 12,
     "metadata": {},
     "output_type": "execute_result"
    }
   ],
   "source": [
    "true , false = data.groupby('Exited')\n",
    "true[1].Exited.value_counts(),false[1].Exited.value_counts()"
   ]
  },
  {
   "cell_type": "code",
   "execution_count": 13,
   "id": "4bb09dd6-3e64-4b72-b4a7-e6009d1a959f",
   "metadata": {},
   "outputs": [],
   "source": [
    "import numpy as np"
   ]
  },
  {
   "cell_type": "code",
   "execution_count": 14,
   "id": "3f982d1a-b157-41de-b4eb-e5a55b4bc9da",
   "metadata": {},
   "outputs": [
    {
     "ename": "AttributeError",
     "evalue": "'tuple' object has no attribute 'sample'",
     "output_type": "error",
     "traceback": [
      "\u001b[0;31m---------------------------------------------------------------------------\u001b[0m",
      "\u001b[0;31mAttributeError\u001b[0m                            Traceback (most recent call last)",
      "\u001b[0;32m/tmp/ipykernel_3765/2450283034.py\u001b[0m in \u001b[0;36m<module>\u001b[0;34m\u001b[0m\n\u001b[0;32m----> 1\u001b[0;31m \u001b[0mfalse\u001b[0m \u001b[0;34m=\u001b[0m \u001b[0mfalse\u001b[0m\u001b[0;34m.\u001b[0m\u001b[0msample\u001b[0m\u001b[0;34m(\u001b[0m\u001b[0;36m7963\u001b[0m\u001b[0;34m,\u001b[0m\u001b[0mreplace\u001b[0m\u001b[0;34m=\u001b[0m\u001b[0;32mTrue\u001b[0m\u001b[0;34m)\u001b[0m\u001b[0;34m\u001b[0m\u001b[0;34m\u001b[0m\u001b[0m\n\u001b[0m\u001b[1;32m      2\u001b[0m \u001b[0morg_data\u001b[0m \u001b[0;34m=\u001b[0m \u001b[0mpd\u001b[0m\u001b[0;34m.\u001b[0m\u001b[0mconcat\u001b[0m\u001b[0;34m(\u001b[0m\u001b[0;34m[\u001b[0m\u001b[0mfalse\u001b[0m\u001b[0;34m,\u001b[0m \u001b[0mtrue\u001b[0m\u001b[0;34m[\u001b[0m\u001b[0;36m1\u001b[0m\u001b[0;34m]\u001b[0m\u001b[0;34m]\u001b[0m \u001b[0;34m)\u001b[0m\u001b[0;34m\u001b[0m\u001b[0;34m\u001b[0m\u001b[0m\n\u001b[1;32m      3\u001b[0m \u001b[0mx\u001b[0m\u001b[0;34m=\u001b[0m \u001b[0morg_data\u001b[0m\u001b[0;34m.\u001b[0m\u001b[0mdrop\u001b[0m\u001b[0;34m(\u001b[0m\u001b[0;34m'Exited'\u001b[0m\u001b[0;34m,\u001b[0m\u001b[0maxis\u001b[0m\u001b[0;34m=\u001b[0m\u001b[0;36m1\u001b[0m\u001b[0;34m)\u001b[0m\u001b[0;34m\u001b[0m\u001b[0;34m\u001b[0m\u001b[0m\n\u001b[1;32m      4\u001b[0m \u001b[0my\u001b[0m \u001b[0;34m=\u001b[0m \u001b[0morg_data\u001b[0m\u001b[0;34m.\u001b[0m\u001b[0mExited\u001b[0m\u001b[0;34m\u001b[0m\u001b[0;34m\u001b[0m\u001b[0m\n",
      "\u001b[0;31mAttributeError\u001b[0m: 'tuple' object has no attribute 'sample'"
     ]
    }
   ],
   "source": [
    "false = false[1].sample(7963,replace=True)\n",
    "org_data = pd.concat([false, true[1]] )\n",
    "x= org_data.drop('Exited',axis=1)\n",
    "y = org_data.Exited"
   ]
  },
  {
   "cell_type": "code",
   "execution_count": null,
   "id": "8a154ac3-1cd7-412e-a166-b083f95137d9",
   "metadata": {},
   "outputs": [],
   "source": [
    "x,xt,y,yt = train_test_split(x,y,test_size = .33 )\n",
    "model = tf.keras.Sequential()\n",
    "model.add(keras.layers.Flatten(input_shape=(13,)))\n",
    "model.add (keras.layers.Dense(10,activation = 'relu'))\n",
    "model.add (keras.layers.Dense(5,activation = 'relu'))\n",
    "model.add (keras.layers.Dense(2,activation = 'relu'))\n",
    "model.add(keras.layers.Dense(1,activation = 'sigmoid'))\n",
    "model.compile(optimizer = 'adam' , loss= 'binary_crossentropy',metrics = 'accuracy')\n",
    "model.fit(x,y,epochs = 10)\n",
    "pred = model.predict(xt)\n"
   ]
  },
  {
   "cell_type": "code",
   "execution_count": 94,
   "id": "df79db7d-2217-4265-876f-e1479f7991dd",
   "metadata": {},
   "outputs": [
    {
     "data": {
      "text/plain": [
       "array([[1551,  522],\n",
       "       [ 216, 1233]])"
      ]
     },
     "execution_count": 94,
     "metadata": {},
     "output_type": "execute_result"
    }
   ],
   "source": [
    "pred = np.round(pred)\n",
    "accuracy_score(pred,yt)\n",
    "confusion_matrix(pred,yt)"
   ]
  },
  {
   "cell_type": "code",
   "execution_count": 95,
   "id": "cc11472a-0547-4080-97b2-9c2b07c745b2",
   "metadata": {},
   "outputs": [],
   "source": [
    "true , false = data.groupby('Exited')\n",
    "sample = true[1].sample(2037)\n",
    "org_data = pd.concat([sample,false[1]])\n",
    "x= org_data.drop('Exited',axis=1)\n",
    "y = org_data.Exited"
   ]
  },
  {
   "cell_type": "markdown",
   "id": "c79a09db-f765-4d00-a83a-d4dca1492b1d",
   "metadata": {},
   "source": [
    "\n",
    "Under Sampling"
   ]
  },
  {
   "cell_type": "code",
   "execution_count": null,
   "id": "f339c139-c7bb-4ab1-aab2-80692e0660ec",
   "metadata": {},
   "outputs": [],
   "source": []
  },
  {
   "cell_type": "code",
   "execution_count": 96,
   "id": "d5200aec-5d3c-42c9-959b-6e9ae9271c4e",
   "metadata": {},
   "outputs": [
    {
     "name": "stdout",
     "output_type": "stream",
     "text": [
      "Epoch 1/10\n",
      "86/86 [==============================] - 1s 1ms/step - loss: 0.6545 - accuracy: 0.6273\n",
      "Epoch 2/10\n",
      "86/86 [==============================] - 0s 1ms/step - loss: 0.5969 - accuracy: 0.6856\n",
      "Epoch 3/10\n",
      "86/86 [==============================] - 0s 1ms/step - loss: 0.5487 - accuracy: 0.7329\n",
      "Epoch 4/10\n",
      "86/86 [==============================] - 0s 1ms/step - loss: 0.5239 - accuracy: 0.7420\n",
      "Epoch 5/10\n",
      "86/86 [==============================] - 0s 1ms/step - loss: 0.5067 - accuracy: 0.7589\n",
      "Epoch 6/10\n",
      "86/86 [==============================] - 0s 1ms/step - loss: 0.4964 - accuracy: 0.7626\n",
      "Epoch 7/10\n",
      "86/86 [==============================] - 0s 987us/step - loss: 0.4882 - accuracy: 0.7732\n",
      "Epoch 8/10\n",
      "86/86 [==============================] - 0s 991us/step - loss: 0.4829 - accuracy: 0.7673\n",
      "Epoch 9/10\n",
      "86/86 [==============================] - 0s 1ms/step - loss: 0.4786 - accuracy: 0.7710\n",
      "Epoch 10/10\n",
      "86/86 [==============================] - 0s 1ms/step - loss: 0.4738 - accuracy: 0.7768\n",
      "43/43 [==============================] - 0s 746us/step\n"
     ]
    }
   ],
   "source": [
    "x,xt,y,yt = train_test_split(x,y,test_size = .33,stratify = y )\n",
    "model = tf.keras.Sequential()\n",
    "model.add(keras.layers.Flatten(input_shape=(13,)))\n",
    "model.add (keras.layers.Dense(100,activation = 'relu'))\n",
    "model.add (keras.layers.Dense(50,activation = 'relu'))\n",
    "model.add (keras.layers.Dense(20,activation = 'relu'))\n",
    "model.add(keras.layers.Dense(1,activation = 'sigmoid'))\n",
    "model.compile(optimizer = 'adam' , loss= 'binary_crossentropy',metrics = 'accuracy')\n",
    "model.fit(x,y,epochs = 10)\n",
    "pred = model.predict(xt)"
   ]
  },
  {
   "cell_type": "code",
   "execution_count": 97,
   "id": "bf27ce29-0dca-41cc-b927-6c8c39ef1cc2",
   "metadata": {},
   "outputs": [
    {
     "data": {
      "text/plain": [
       "0.7546468401486989"
      ]
     },
     "execution_count": 97,
     "metadata": {},
     "output_type": "execute_result"
    }
   ],
   "source": [
    "pred = np.round(pred)\n",
    "accuracy_score(pred,yt)\n",
    "confusion_matrix(pred,yt)\n",
    "accuracy_score(pred,yt)"
   ]
  },
  {
   "cell_type": "code",
   "execution_count": 98,
   "id": "ebe74720-f5b5-43a2-ac69-76bcfebbb370",
   "metadata": {},
   "outputs": [],
   "source": [
    "true , false = data.groupby('Exited')\n",
    "org_data = pd.concat([true[1],false[1]])\n",
    "x= org_data.drop('Exited',axis=1)\n",
    "y = org_data.Exited"
   ]
  },
  {
   "cell_type": "code",
   "execution_count": null,
   "id": "3a6bb3ac-f759-4965-93d7-fbc1fe39fac3",
   "metadata": {},
   "outputs": [],
   "source": []
  },
  {
   "cell_type": "code",
   "execution_count": 99,
   "id": "8c853cbf-61d9-4376-aab3-37181c7ba8d9",
   "metadata": {},
   "outputs": [],
   "source": [
    "from imblearn.over_sampling import SMOTE\n",
    "smote = SMOTE(sampling_strategy = 'minority')\n",
    "x,y = smote.fit_resample(x,y)\n"
   ]
  },
  {
   "cell_type": "code",
   "execution_count": 100,
   "id": "9c0f48e9-2918-45a7-a1d4-fc4925166578",
   "metadata": {},
   "outputs": [
    {
     "name": "stdout",
     "output_type": "stream",
     "text": [
      "Epoch 1/250\n",
      "334/334 [==============================] - 1s 2ms/step - loss: 0.5640 - accuracy: 0.7074\n",
      "Epoch 2/250\n",
      "334/334 [==============================] - 1s 2ms/step - loss: 0.4874 - accuracy: 0.7606\n",
      "Epoch 3/250\n",
      "334/334 [==============================] - 1s 2ms/step - loss: 0.4724 - accuracy: 0.7615\n",
      "Epoch 4/250\n",
      "334/334 [==============================] - 1s 2ms/step - loss: 0.4600 - accuracy: 0.7746\n",
      "Epoch 5/250\n",
      "334/334 [==============================] - 1s 2ms/step - loss: 0.4478 - accuracy: 0.7797\n",
      "Epoch 6/250\n",
      "334/334 [==============================] - 1s 2ms/step - loss: 0.4429 - accuracy: 0.7849\n",
      "Epoch 7/250\n",
      "334/334 [==============================] - 1s 2ms/step - loss: 0.4380 - accuracy: 0.7901\n",
      "Epoch 8/250\n",
      "334/334 [==============================] - 1s 2ms/step - loss: 0.4331 - accuracy: 0.7928\n",
      "Epoch 9/250\n",
      "334/334 [==============================] - 1s 2ms/step - loss: 0.4304 - accuracy: 0.7932\n",
      "Epoch 10/250\n",
      "334/334 [==============================] - 1s 2ms/step - loss: 0.4237 - accuracy: 0.7990\n",
      "Epoch 11/250\n",
      "334/334 [==============================] - 1s 2ms/step - loss: 0.4279 - accuracy: 0.7907\n",
      "Epoch 12/250\n",
      "334/334 [==============================] - 1s 2ms/step - loss: 0.4195 - accuracy: 0.8002\n",
      "Epoch 13/250\n",
      "334/334 [==============================] - 1s 2ms/step - loss: 0.4131 - accuracy: 0.8046\n",
      "Epoch 14/250\n",
      "334/334 [==============================] - 1s 2ms/step - loss: 0.4092 - accuracy: 0.8030\n",
      "Epoch 15/250\n",
      "334/334 [==============================] - 1s 2ms/step - loss: 0.4061 - accuracy: 0.8093\n",
      "Epoch 16/250\n",
      "334/334 [==============================] - 1s 2ms/step - loss: 0.4045 - accuracy: 0.8090\n",
      "Epoch 17/250\n",
      "334/334 [==============================] - 1s 2ms/step - loss: 0.3976 - accuracy: 0.8108\n",
      "Epoch 18/250\n",
      "334/334 [==============================] - 1s 2ms/step - loss: 0.3944 - accuracy: 0.8157\n",
      "Epoch 19/250\n",
      "334/334 [==============================] - 1s 2ms/step - loss: 0.3912 - accuracy: 0.8187\n",
      "Epoch 20/250\n",
      "334/334 [==============================] - 1s 2ms/step - loss: 0.3838 - accuracy: 0.8201\n",
      "Epoch 21/250\n",
      "334/334 [==============================] - 1s 2ms/step - loss: 0.3800 - accuracy: 0.8220\n",
      "Epoch 22/250\n",
      "334/334 [==============================] - 1s 2ms/step - loss: 0.3758 - accuracy: 0.8216\n",
      "Epoch 23/250\n",
      "334/334 [==============================] - 1s 2ms/step - loss: 0.3708 - accuracy: 0.8260\n",
      "Epoch 24/250\n",
      "334/334 [==============================] - 1s 2ms/step - loss: 0.3648 - accuracy: 0.8299\n",
      "Epoch 25/250\n",
      "334/334 [==============================] - 1s 2ms/step - loss: 0.3596 - accuracy: 0.8338\n",
      "Epoch 26/250\n",
      "334/334 [==============================] - 1s 2ms/step - loss: 0.3515 - accuracy: 0.8368\n",
      "Epoch 27/250\n",
      "334/334 [==============================] - 1s 2ms/step - loss: 0.3493 - accuracy: 0.8386\n",
      "Epoch 28/250\n",
      "334/334 [==============================] - 1s 2ms/step - loss: 0.3425 - accuracy: 0.8430\n",
      "Epoch 29/250\n",
      "334/334 [==============================] - 1s 2ms/step - loss: 0.3357 - accuracy: 0.8469\n",
      "Epoch 30/250\n",
      "334/334 [==============================] - 1s 2ms/step - loss: 0.3324 - accuracy: 0.8489\n",
      "Epoch 31/250\n",
      "334/334 [==============================] - 1s 2ms/step - loss: 0.3221 - accuracy: 0.8523\n",
      "Epoch 32/250\n",
      "334/334 [==============================] - 1s 2ms/step - loss: 0.3228 - accuracy: 0.8545\n",
      "Epoch 33/250\n",
      "334/334 [==============================] - 1s 2ms/step - loss: 0.3148 - accuracy: 0.8577\n",
      "Epoch 34/250\n",
      "334/334 [==============================] - 1s 2ms/step - loss: 0.3123 - accuracy: 0.8590\n",
      "Epoch 35/250\n",
      "334/334 [==============================] - 1s 2ms/step - loss: 0.3066 - accuracy: 0.8607\n",
      "Epoch 36/250\n",
      "334/334 [==============================] - 1s 2ms/step - loss: 0.2973 - accuracy: 0.8653\n",
      "Epoch 37/250\n",
      "334/334 [==============================] - 1s 2ms/step - loss: 0.2933 - accuracy: 0.8663\n",
      "Epoch 38/250\n",
      "334/334 [==============================] - 1s 2ms/step - loss: 0.2906 - accuracy: 0.8710\n",
      "Epoch 39/250\n",
      "334/334 [==============================] - 1s 2ms/step - loss: 0.2880 - accuracy: 0.8718\n",
      "Epoch 40/250\n",
      "334/334 [==============================] - 1s 2ms/step - loss: 0.2794 - accuracy: 0.8761\n",
      "Epoch 41/250\n",
      "334/334 [==============================] - 1s 2ms/step - loss: 0.2752 - accuracy: 0.8770\n",
      "Epoch 42/250\n",
      "334/334 [==============================] - 1s 2ms/step - loss: 0.2709 - accuracy: 0.8798\n",
      "Epoch 43/250\n",
      "334/334 [==============================] - 1s 2ms/step - loss: 0.2661 - accuracy: 0.8869\n",
      "Epoch 44/250\n",
      "334/334 [==============================] - 1s 2ms/step - loss: 0.2596 - accuracy: 0.8855\n",
      "Epoch 45/250\n",
      "334/334 [==============================] - 1s 2ms/step - loss: 0.2562 - accuracy: 0.8888\n",
      "Epoch 46/250\n",
      "334/334 [==============================] - 1s 2ms/step - loss: 0.2550 - accuracy: 0.8892\n",
      "Epoch 47/250\n",
      "334/334 [==============================] - 1s 2ms/step - loss: 0.2441 - accuracy: 0.8958\n",
      "Epoch 48/250\n",
      "334/334 [==============================] - 1s 2ms/step - loss: 0.2386 - accuracy: 0.8970\n",
      "Epoch 49/250\n",
      "334/334 [==============================] - 1s 2ms/step - loss: 0.2362 - accuracy: 0.8967\n",
      "Epoch 50/250\n",
      "334/334 [==============================] - 1s 2ms/step - loss: 0.2307 - accuracy: 0.9005\n",
      "Epoch 51/250\n",
      "334/334 [==============================] - 1s 2ms/step - loss: 0.2275 - accuracy: 0.9028\n",
      "Epoch 52/250\n",
      "334/334 [==============================] - 1s 2ms/step - loss: 0.2212 - accuracy: 0.9070\n",
      "Epoch 53/250\n",
      "334/334 [==============================] - 1s 2ms/step - loss: 0.2205 - accuracy: 0.9100\n",
      "Epoch 54/250\n",
      "334/334 [==============================] - 1s 2ms/step - loss: 0.2113 - accuracy: 0.9087\n",
      "Epoch 55/250\n",
      "334/334 [==============================] - 1s 2ms/step - loss: 0.2107 - accuracy: 0.9110\n",
      "Epoch 56/250\n",
      "334/334 [==============================] - 1s 2ms/step - loss: 0.2090 - accuracy: 0.9112\n",
      "Epoch 57/250\n",
      "334/334 [==============================] - 1s 2ms/step - loss: 0.2046 - accuracy: 0.9148\n",
      "Epoch 58/250\n",
      "334/334 [==============================] - 1s 2ms/step - loss: 0.2037 - accuracy: 0.9131\n",
      "Epoch 59/250\n",
      "334/334 [==============================] - 1s 2ms/step - loss: 0.1942 - accuracy: 0.9187\n",
      "Epoch 60/250\n",
      "334/334 [==============================] - 1s 2ms/step - loss: 0.1942 - accuracy: 0.9213\n",
      "Epoch 61/250\n",
      "334/334 [==============================] - 1s 2ms/step - loss: 0.1855 - accuracy: 0.9239\n",
      "Epoch 62/250\n",
      "334/334 [==============================] - 1s 2ms/step - loss: 0.1837 - accuracy: 0.9259\n",
      "Epoch 63/250\n",
      "334/334 [==============================] - 1s 2ms/step - loss: 0.1851 - accuracy: 0.9258\n",
      "Epoch 64/250\n",
      "334/334 [==============================] - 1s 2ms/step - loss: 0.1784 - accuracy: 0.9230\n",
      "Epoch 65/250\n",
      "334/334 [==============================] - 1s 2ms/step - loss: 0.1728 - accuracy: 0.9306\n",
      "Epoch 66/250\n",
      "334/334 [==============================] - 1s 2ms/step - loss: 0.1662 - accuracy: 0.9305\n",
      "Epoch 67/250\n",
      "334/334 [==============================] - 1s 2ms/step - loss: 0.1693 - accuracy: 0.9326\n",
      "Epoch 68/250\n",
      "334/334 [==============================] - 1s 2ms/step - loss: 0.1725 - accuracy: 0.9261\n",
      "Epoch 69/250\n",
      "334/334 [==============================] - 1s 2ms/step - loss: 0.1632 - accuracy: 0.9334\n",
      "Epoch 70/250\n",
      "334/334 [==============================] - 1s 2ms/step - loss: 0.1559 - accuracy: 0.9387\n",
      "Epoch 71/250\n",
      "334/334 [==============================] - 1s 2ms/step - loss: 0.1625 - accuracy: 0.9336\n",
      "Epoch 72/250\n",
      "334/334 [==============================] - 1s 2ms/step - loss: 0.1562 - accuracy: 0.9385\n",
      "Epoch 73/250\n",
      "334/334 [==============================] - 1s 2ms/step - loss: 0.1477 - accuracy: 0.9395\n",
      "Epoch 74/250\n",
      "334/334 [==============================] - 1s 2ms/step - loss: 0.1470 - accuracy: 0.9421\n",
      "Epoch 75/250\n",
      "334/334 [==============================] - 1s 2ms/step - loss: 0.1467 - accuracy: 0.9406\n",
      "Epoch 76/250\n",
      "334/334 [==============================] - 1s 2ms/step - loss: 0.1423 - accuracy: 0.9407\n",
      "Epoch 77/250\n",
      "334/334 [==============================] - 1s 2ms/step - loss: 0.1370 - accuracy: 0.9458\n",
      "Epoch 78/250\n",
      "334/334 [==============================] - 1s 2ms/step - loss: 0.1403 - accuracy: 0.9426\n",
      "Epoch 79/250\n",
      "334/334 [==============================] - 1s 2ms/step - loss: 0.1366 - accuracy: 0.9469\n",
      "Epoch 80/250\n",
      "334/334 [==============================] - 1s 2ms/step - loss: 0.1332 - accuracy: 0.9468\n",
      "Epoch 81/250\n",
      "334/334 [==============================] - 1s 2ms/step - loss: 0.1296 - accuracy: 0.9471\n",
      "Epoch 82/250\n",
      "334/334 [==============================] - 1s 2ms/step - loss: 0.1384 - accuracy: 0.9453\n",
      "Epoch 83/250\n",
      "334/334 [==============================] - 1s 2ms/step - loss: 0.1252 - accuracy: 0.9512\n",
      "Epoch 84/250\n",
      "334/334 [==============================] - 1s 2ms/step - loss: 0.1222 - accuracy: 0.9503\n",
      "Epoch 85/250\n",
      "334/334 [==============================] - 1s 2ms/step - loss: 0.1206 - accuracy: 0.9519\n",
      "Epoch 86/250\n",
      "334/334 [==============================] - 1s 2ms/step - loss: 0.1267 - accuracy: 0.9496\n",
      "Epoch 87/250\n",
      "334/334 [==============================] - 1s 2ms/step - loss: 0.1242 - accuracy: 0.9510\n",
      "Epoch 88/250\n",
      "334/334 [==============================] - 1s 2ms/step - loss: 0.1153 - accuracy: 0.9548\n",
      "Epoch 89/250\n",
      "334/334 [==============================] - 1s 2ms/step - loss: 0.1178 - accuracy: 0.9549\n",
      "Epoch 90/250\n",
      "334/334 [==============================] - 1s 2ms/step - loss: 0.1185 - accuracy: 0.9515\n",
      "Epoch 91/250\n",
      "334/334 [==============================] - 1s 2ms/step - loss: 0.1173 - accuracy: 0.9540\n",
      "Epoch 92/250\n",
      "334/334 [==============================] - 1s 2ms/step - loss: 0.1105 - accuracy: 0.9560\n",
      "Epoch 93/250\n",
      "334/334 [==============================] - 1s 2ms/step - loss: 0.1113 - accuracy: 0.9563\n",
      "Epoch 94/250\n",
      "334/334 [==============================] - 1s 2ms/step - loss: 0.1090 - accuracy: 0.9590\n",
      "Epoch 95/250\n",
      "334/334 [==============================] - 1s 2ms/step - loss: 0.0998 - accuracy: 0.9618\n",
      "Epoch 96/250\n",
      "334/334 [==============================] - 1s 2ms/step - loss: 0.1079 - accuracy: 0.9560\n",
      "Epoch 97/250\n",
      "334/334 [==============================] - 1s 2ms/step - loss: 0.0980 - accuracy: 0.9627\n",
      "Epoch 98/250\n",
      "334/334 [==============================] - 1s 2ms/step - loss: 0.0982 - accuracy: 0.9598\n",
      "Epoch 99/250\n",
      "334/334 [==============================] - 1s 2ms/step - loss: 0.1038 - accuracy: 0.9601\n",
      "Epoch 100/250\n",
      "334/334 [==============================] - 1s 2ms/step - loss: 0.1042 - accuracy: 0.9590\n",
      "Epoch 101/250\n",
      "334/334 [==============================] - 1s 2ms/step - loss: 0.1097 - accuracy: 0.9570\n",
      "Epoch 102/250\n",
      "334/334 [==============================] - 1s 2ms/step - loss: 0.0915 - accuracy: 0.9655\n",
      "Epoch 103/250\n",
      "334/334 [==============================] - 1s 2ms/step - loss: 0.0965 - accuracy: 0.9625\n",
      "Epoch 104/250\n",
      "334/334 [==============================] - 1s 2ms/step - loss: 0.0970 - accuracy: 0.9628\n",
      "Epoch 105/250\n",
      "334/334 [==============================] - 1s 2ms/step - loss: 0.0905 - accuracy: 0.9655\n",
      "Epoch 106/250\n",
      "334/334 [==============================] - 1s 2ms/step - loss: 0.0913 - accuracy: 0.9633\n",
      "Epoch 107/250\n",
      "334/334 [==============================] - 1s 2ms/step - loss: 0.0896 - accuracy: 0.9652\n",
      "Epoch 108/250\n",
      "334/334 [==============================] - 1s 2ms/step - loss: 0.0939 - accuracy: 0.9634\n",
      "Epoch 109/250\n",
      "334/334 [==============================] - 1s 2ms/step - loss: 0.1050 - accuracy: 0.9584\n",
      "Epoch 110/250\n",
      "334/334 [==============================] - 1s 2ms/step - loss: 0.0894 - accuracy: 0.9654\n",
      "Epoch 111/250\n",
      "334/334 [==============================] - 1s 2ms/step - loss: 0.0730 - accuracy: 0.9723\n",
      "Epoch 112/250\n",
      "334/334 [==============================] - 1s 2ms/step - loss: 0.0881 - accuracy: 0.9658\n",
      "Epoch 113/250\n",
      "334/334 [==============================] - 1s 2ms/step - loss: 0.0807 - accuracy: 0.9681\n",
      "Epoch 114/250\n",
      "334/334 [==============================] - 1s 2ms/step - loss: 0.0913 - accuracy: 0.9646\n",
      "Epoch 115/250\n",
      "334/334 [==============================] - 1s 2ms/step - loss: 0.0842 - accuracy: 0.9673\n",
      "Epoch 116/250\n",
      "334/334 [==============================] - 1s 2ms/step - loss: 0.0856 - accuracy: 0.9655\n",
      "Epoch 117/250\n",
      "334/334 [==============================] - 1s 2ms/step - loss: 0.0708 - accuracy: 0.9728\n",
      "Epoch 118/250\n",
      "334/334 [==============================] - 1s 2ms/step - loss: 0.0858 - accuracy: 0.9679\n",
      "Epoch 119/250\n",
      "334/334 [==============================] - 1s 2ms/step - loss: 0.0771 - accuracy: 0.9700\n",
      "Epoch 120/250\n",
      "334/334 [==============================] - 1s 2ms/step - loss: 0.0780 - accuracy: 0.9702\n",
      "Epoch 121/250\n",
      "334/334 [==============================] - 1s 2ms/step - loss: 0.0828 - accuracy: 0.9668\n",
      "Epoch 122/250\n",
      "334/334 [==============================] - 1s 2ms/step - loss: 0.0759 - accuracy: 0.9704\n",
      "Epoch 123/250\n",
      "334/334 [==============================] - 1s 2ms/step - loss: 0.0759 - accuracy: 0.9725\n",
      "Epoch 124/250\n",
      "334/334 [==============================] - 1s 2ms/step - loss: 0.0720 - accuracy: 0.9731\n",
      "Epoch 125/250\n",
      "334/334 [==============================] - 1s 2ms/step - loss: 0.0851 - accuracy: 0.9694\n",
      "Epoch 126/250\n",
      "334/334 [==============================] - 1s 2ms/step - loss: 0.0776 - accuracy: 0.9703\n",
      "Epoch 127/250\n",
      "334/334 [==============================] - 1s 2ms/step - loss: 0.0708 - accuracy: 0.9738\n",
      "Epoch 128/250\n",
      "334/334 [==============================] - 1s 2ms/step - loss: 0.0673 - accuracy: 0.9734\n",
      "Epoch 129/250\n",
      "334/334 [==============================] - 1s 2ms/step - loss: 0.0829 - accuracy: 0.9671\n",
      "Epoch 130/250\n",
      "334/334 [==============================] - 1s 2ms/step - loss: 0.0657 - accuracy: 0.9735\n",
      "Epoch 131/250\n",
      "334/334 [==============================] - 1s 2ms/step - loss: 0.0793 - accuracy: 0.9707\n",
      "Epoch 132/250\n",
      "334/334 [==============================] - 1s 2ms/step - loss: 0.0693 - accuracy: 0.9725\n",
      "Epoch 133/250\n",
      "334/334 [==============================] - 1s 2ms/step - loss: 0.0621 - accuracy: 0.9754\n",
      "Epoch 134/250\n",
      "334/334 [==============================] - 1s 2ms/step - loss: 0.0626 - accuracy: 0.9766\n",
      "Epoch 135/250\n",
      "334/334 [==============================] - 1s 2ms/step - loss: 0.0837 - accuracy: 0.9679\n",
      "Epoch 136/250\n",
      "334/334 [==============================] - 1s 2ms/step - loss: 0.0718 - accuracy: 0.9737\n",
      "Epoch 137/250\n",
      "334/334 [==============================] - 1s 2ms/step - loss: 0.0715 - accuracy: 0.9732\n",
      "Epoch 138/250\n",
      "334/334 [==============================] - 1s 2ms/step - loss: 0.0583 - accuracy: 0.9786\n",
      "Epoch 139/250\n",
      "334/334 [==============================] - 1s 2ms/step - loss: 0.0567 - accuracy: 0.9794\n",
      "Epoch 140/250\n",
      "334/334 [==============================] - 1s 2ms/step - loss: 0.0852 - accuracy: 0.9679\n",
      "Epoch 141/250\n",
      "334/334 [==============================] - 1s 2ms/step - loss: 0.0695 - accuracy: 0.9738\n",
      "Epoch 142/250\n",
      "334/334 [==============================] - 1s 2ms/step - loss: 0.0542 - accuracy: 0.9808\n",
      "Epoch 143/250\n",
      "334/334 [==============================] - 1s 2ms/step - loss: 0.0596 - accuracy: 0.9790\n",
      "Epoch 144/250\n",
      "334/334 [==============================] - 1s 2ms/step - loss: 0.0601 - accuracy: 0.9769\n",
      "Epoch 145/250\n",
      "334/334 [==============================] - 1s 2ms/step - loss: 0.0632 - accuracy: 0.9769\n",
      "Epoch 146/250\n",
      "334/334 [==============================] - 1s 2ms/step - loss: 0.0658 - accuracy: 0.9767\n",
      "Epoch 147/250\n",
      "334/334 [==============================] - 1s 2ms/step - loss: 0.0608 - accuracy: 0.9770\n",
      "Epoch 148/250\n",
      "334/334 [==============================] - 1s 2ms/step - loss: 0.0524 - accuracy: 0.9816\n",
      "Epoch 149/250\n",
      "334/334 [==============================] - 1s 2ms/step - loss: 0.0612 - accuracy: 0.9775\n",
      "Epoch 150/250\n",
      "334/334 [==============================] - 1s 2ms/step - loss: 0.0922 - accuracy: 0.9659\n",
      "Epoch 151/250\n",
      "334/334 [==============================] - 1s 2ms/step - loss: 0.0609 - accuracy: 0.9779\n",
      "Epoch 152/250\n",
      "334/334 [==============================] - 1s 2ms/step - loss: 0.0449 - accuracy: 0.9833\n",
      "Epoch 153/250\n",
      "334/334 [==============================] - 1s 2ms/step - loss: 0.0496 - accuracy: 0.9808\n",
      "Epoch 154/250\n",
      "334/334 [==============================] - 1s 2ms/step - loss: 0.0633 - accuracy: 0.9783\n",
      "Epoch 155/250\n",
      "334/334 [==============================] - 1s 2ms/step - loss: 0.0466 - accuracy: 0.9818\n",
      "Epoch 156/250\n",
      "334/334 [==============================] - 1s 2ms/step - loss: 0.0559 - accuracy: 0.9799\n",
      "Epoch 157/250\n",
      "334/334 [==============================] - 1s 2ms/step - loss: 0.0587 - accuracy: 0.9779\n",
      "Epoch 158/250\n",
      "334/334 [==============================] - 1s 2ms/step - loss: 0.0652 - accuracy: 0.9742\n",
      "Epoch 159/250\n",
      "334/334 [==============================] - 1s 2ms/step - loss: 0.0554 - accuracy: 0.9786\n",
      "Epoch 160/250\n",
      "334/334 [==============================] - 1s 2ms/step - loss: 0.0559 - accuracy: 0.9792\n",
      "Epoch 161/250\n",
      "334/334 [==============================] - 1s 2ms/step - loss: 0.0524 - accuracy: 0.9823\n",
      "Epoch 162/250\n",
      "334/334 [==============================] - 1s 2ms/step - loss: 0.0573 - accuracy: 0.9792\n",
      "Epoch 163/250\n",
      "334/334 [==============================] - 1s 2ms/step - loss: 0.0428 - accuracy: 0.9853\n",
      "Epoch 164/250\n",
      "334/334 [==============================] - 1s 2ms/step - loss: 0.0523 - accuracy: 0.9802\n",
      "Epoch 165/250\n",
      "334/334 [==============================] - 1s 2ms/step - loss: 0.0684 - accuracy: 0.9750\n",
      "Epoch 166/250\n",
      "334/334 [==============================] - 1s 2ms/step - loss: 0.0532 - accuracy: 0.9809\n",
      "Epoch 167/250\n",
      "334/334 [==============================] - 1s 2ms/step - loss: 0.0551 - accuracy: 0.9800\n",
      "Epoch 168/250\n",
      "334/334 [==============================] - 1s 2ms/step - loss: 0.0502 - accuracy: 0.9814\n",
      "Epoch 169/250\n",
      "334/334 [==============================] - 1s 2ms/step - loss: 0.0435 - accuracy: 0.9839\n",
      "Epoch 170/250\n",
      "334/334 [==============================] - 1s 2ms/step - loss: 0.0338 - accuracy: 0.9883\n",
      "Epoch 171/250\n",
      "334/334 [==============================] - 1s 2ms/step - loss: 0.0747 - accuracy: 0.9720\n",
      "Epoch 172/250\n",
      "334/334 [==============================] - 1s 2ms/step - loss: 0.0543 - accuracy: 0.9805\n",
      "Epoch 173/250\n",
      "334/334 [==============================] - 1s 2ms/step - loss: 0.0566 - accuracy: 0.9799\n",
      "Epoch 174/250\n",
      "334/334 [==============================] - 1s 2ms/step - loss: 0.0468 - accuracy: 0.9837\n",
      "Epoch 175/250\n",
      "334/334 [==============================] - 1s 2ms/step - loss: 0.0564 - accuracy: 0.9790\n",
      "Epoch 176/250\n",
      "334/334 [==============================] - 1s 2ms/step - loss: 0.0458 - accuracy: 0.9834\n",
      "Epoch 177/250\n",
      "334/334 [==============================] - 1s 2ms/step - loss: 0.0380 - accuracy: 0.9870\n",
      "Epoch 178/250\n",
      "334/334 [==============================] - 1s 2ms/step - loss: 0.0497 - accuracy: 0.9808\n",
      "Epoch 179/250\n",
      "334/334 [==============================] - 1s 2ms/step - loss: 0.0563 - accuracy: 0.9793\n",
      "Epoch 180/250\n",
      "334/334 [==============================] - 1s 2ms/step - loss: 0.0439 - accuracy: 0.9834\n",
      "Epoch 181/250\n",
      "334/334 [==============================] - 1s 2ms/step - loss: 0.0530 - accuracy: 0.9793\n",
      "Epoch 182/250\n",
      "334/334 [==============================] - 1s 2ms/step - loss: 0.0506 - accuracy: 0.9825\n",
      "Epoch 183/250\n",
      "334/334 [==============================] - 1s 2ms/step - loss: 0.0344 - accuracy: 0.9878\n",
      "Epoch 184/250\n",
      "334/334 [==============================] - 1s 2ms/step - loss: 0.0382 - accuracy: 0.9864\n",
      "Epoch 185/250\n",
      "334/334 [==============================] - 1s 2ms/step - loss: 0.0529 - accuracy: 0.9787\n",
      "Epoch 186/250\n",
      "334/334 [==============================] - 1s 2ms/step - loss: 0.0357 - accuracy: 0.9869\n",
      "Epoch 187/250\n",
      "334/334 [==============================] - 1s 2ms/step - loss: 0.0708 - accuracy: 0.9772\n",
      "Epoch 188/250\n",
      "334/334 [==============================] - 1s 2ms/step - loss: 0.0463 - accuracy: 0.9847\n",
      "Epoch 189/250\n",
      "334/334 [==============================] - 1s 2ms/step - loss: 0.0513 - accuracy: 0.9808\n",
      "Epoch 190/250\n",
      "334/334 [==============================] - 1s 2ms/step - loss: 0.0470 - accuracy: 0.9811\n",
      "Epoch 191/250\n",
      "334/334 [==============================] - 1s 2ms/step - loss: 0.0302 - accuracy: 0.9898\n",
      "Epoch 192/250\n",
      "334/334 [==============================] - 1s 2ms/step - loss: 0.0366 - accuracy: 0.9866\n",
      "Epoch 193/250\n",
      "334/334 [==============================] - 1s 2ms/step - loss: 0.0434 - accuracy: 0.9850\n",
      "Epoch 194/250\n",
      "334/334 [==============================] - 1s 2ms/step - loss: 0.0660 - accuracy: 0.9776\n",
      "Epoch 195/250\n",
      "334/334 [==============================] - 1s 2ms/step - loss: 0.0624 - accuracy: 0.9780\n",
      "Epoch 196/250\n",
      "334/334 [==============================] - 1s 2ms/step - loss: 0.0417 - accuracy: 0.9840\n",
      "Epoch 197/250\n",
      "334/334 [==============================] - 1s 2ms/step - loss: 0.0324 - accuracy: 0.9888\n",
      "Epoch 198/250\n",
      "334/334 [==============================] - 1s 2ms/step - loss: 0.0342 - accuracy: 0.9883\n",
      "Epoch 199/250\n",
      "334/334 [==============================] - 1s 2ms/step - loss: 0.0291 - accuracy: 0.9891\n",
      "Epoch 200/250\n",
      "334/334 [==============================] - 1s 2ms/step - loss: 0.0480 - accuracy: 0.9843\n",
      "Epoch 201/250\n",
      "334/334 [==============================] - 1s 2ms/step - loss: 0.0665 - accuracy: 0.9768\n",
      "Epoch 202/250\n",
      "334/334 [==============================] - 1s 2ms/step - loss: 0.0470 - accuracy: 0.9838\n",
      "Epoch 203/250\n",
      "334/334 [==============================] - 1s 2ms/step - loss: 0.0313 - accuracy: 0.9902\n",
      "Epoch 204/250\n",
      "334/334 [==============================] - 1s 2ms/step - loss: 0.0477 - accuracy: 0.9830\n",
      "Epoch 205/250\n",
      "334/334 [==============================] - 1s 2ms/step - loss: 0.0311 - accuracy: 0.9911\n",
      "Epoch 206/250\n",
      "334/334 [==============================] - 1s 2ms/step - loss: 0.0403 - accuracy: 0.9843\n",
      "Epoch 207/250\n",
      "334/334 [==============================] - 1s 2ms/step - loss: 0.0455 - accuracy: 0.9833\n",
      "Epoch 208/250\n",
      "334/334 [==============================] - 1s 2ms/step - loss: 0.0542 - accuracy: 0.9811\n",
      "Epoch 209/250\n",
      "334/334 [==============================] - 1s 2ms/step - loss: 0.0492 - accuracy: 0.9813\n",
      "Epoch 210/250\n",
      "334/334 [==============================] - 1s 2ms/step - loss: 0.0266 - accuracy: 0.9909\n",
      "Epoch 211/250\n",
      "334/334 [==============================] - 1s 2ms/step - loss: 0.0271 - accuracy: 0.9912\n",
      "Epoch 212/250\n",
      "334/334 [==============================] - 1s 2ms/step - loss: 0.0470 - accuracy: 0.9835\n",
      "Epoch 213/250\n",
      "334/334 [==============================] - 1s 2ms/step - loss: 0.0710 - accuracy: 0.9802\n",
      "Epoch 214/250\n",
      "334/334 [==============================] - 1s 2ms/step - loss: 0.0266 - accuracy: 0.9907\n",
      "Epoch 215/250\n",
      "334/334 [==============================] - 1s 2ms/step - loss: 0.0294 - accuracy: 0.9903\n",
      "Epoch 216/250\n",
      "334/334 [==============================] - 1s 2ms/step - loss: 0.0520 - accuracy: 0.9826\n",
      "Epoch 217/250\n",
      "334/334 [==============================] - 1s 2ms/step - loss: 0.0432 - accuracy: 0.9833\n",
      "Epoch 218/250\n",
      "334/334 [==============================] - 1s 2ms/step - loss: 0.0284 - accuracy: 0.9902\n",
      "Epoch 219/250\n",
      "334/334 [==============================] - 1s 2ms/step - loss: 0.0244 - accuracy: 0.9930\n",
      "Epoch 220/250\n",
      "334/334 [==============================] - 1s 2ms/step - loss: 0.0701 - accuracy: 0.9745\n",
      "Epoch 221/250\n",
      "334/334 [==============================] - 1s 2ms/step - loss: 0.0521 - accuracy: 0.9796\n",
      "Epoch 222/250\n",
      "334/334 [==============================] - 1s 2ms/step - loss: 0.0335 - accuracy: 0.9887\n",
      "Epoch 223/250\n",
      "334/334 [==============================] - 1s 2ms/step - loss: 0.0355 - accuracy: 0.9884\n",
      "Epoch 224/250\n",
      "334/334 [==============================] - 1s 2ms/step - loss: 0.0275 - accuracy: 0.9913\n",
      "Epoch 225/250\n",
      "334/334 [==============================] - 1s 2ms/step - loss: 0.0264 - accuracy: 0.9917\n",
      "Epoch 226/250\n",
      "334/334 [==============================] - 1s 2ms/step - loss: 0.0402 - accuracy: 0.9862\n",
      "Epoch 227/250\n",
      "334/334 [==============================] - 1s 2ms/step - loss: 0.0618 - accuracy: 0.9787\n",
      "Epoch 228/250\n",
      "334/334 [==============================] - 1s 2ms/step - loss: 0.0413 - accuracy: 0.9844\n",
      "Epoch 229/250\n",
      "334/334 [==============================] - 1s 2ms/step - loss: 0.0291 - accuracy: 0.9900\n",
      "Epoch 230/250\n",
      "334/334 [==============================] - 1s 2ms/step - loss: 0.0389 - accuracy: 0.9877\n",
      "Epoch 231/250\n",
      "334/334 [==============================] - 1s 2ms/step - loss: 0.0249 - accuracy: 0.9908\n",
      "Epoch 232/250\n",
      "334/334 [==============================] - 1s 2ms/step - loss: 0.0334 - accuracy: 0.9872\n",
      "Epoch 233/250\n",
      "334/334 [==============================] - 1s 2ms/step - loss: 0.0310 - accuracy: 0.9897\n",
      "Epoch 234/250\n",
      "334/334 [==============================] - 1s 2ms/step - loss: 0.0319 - accuracy: 0.9896\n",
      "Epoch 235/250\n",
      "334/334 [==============================] - 1s 2ms/step - loss: 0.0714 - accuracy: 0.9766\n",
      "Epoch 236/250\n",
      "334/334 [==============================] - 1s 2ms/step - loss: 0.0659 - accuracy: 0.9757\n",
      "Epoch 237/250\n",
      "334/334 [==============================] - 1s 2ms/step - loss: 0.0240 - accuracy: 0.9915\n",
      "Epoch 238/250\n",
      "334/334 [==============================] - 1s 2ms/step - loss: 0.0176 - accuracy: 0.9944\n",
      "Epoch 239/250\n",
      "334/334 [==============================] - 1s 2ms/step - loss: 0.0179 - accuracy: 0.9945\n",
      "Epoch 240/250\n",
      "334/334 [==============================] - 1s 2ms/step - loss: 0.0248 - accuracy: 0.9916\n",
      "Epoch 241/250\n",
      "334/334 [==============================] - 1s 2ms/step - loss: 0.0777 - accuracy: 0.9731\n",
      "Epoch 242/250\n",
      "334/334 [==============================] - 1s 2ms/step - loss: 0.0398 - accuracy: 0.9841\n",
      "Epoch 243/250\n",
      "334/334 [==============================] - 1s 2ms/step - loss: 0.0212 - accuracy: 0.9938\n",
      "Epoch 244/250\n",
      "334/334 [==============================] - 1s 2ms/step - loss: 0.0175 - accuracy: 0.9948\n",
      "Epoch 245/250\n",
      "334/334 [==============================] - 1s 2ms/step - loss: 0.0324 - accuracy: 0.9891\n",
      "Epoch 246/250\n",
      "334/334 [==============================] - 1s 2ms/step - loss: 0.0507 - accuracy: 0.9801\n",
      "Epoch 247/250\n",
      "334/334 [==============================] - 1s 2ms/step - loss: 0.0413 - accuracy: 0.9864\n",
      "Epoch 248/250\n",
      "334/334 [==============================] - 1s 2ms/step - loss: 0.0317 - accuracy: 0.9898\n",
      "Epoch 249/250\n",
      "334/334 [==============================] - 1s 2ms/step - loss: 0.0406 - accuracy: 0.9875\n",
      "Epoch 250/250\n",
      "334/334 [==============================] - 1s 2ms/step - loss: 0.0269 - accuracy: 0.9918\n",
      "165/165 [==============================] - 0s 637us/step\n"
     ]
    }
   ],
   "source": [
    "x,xt,y,yt = train_test_split(x,y,test_size = .33)\n",
    "model = tf.keras.Sequential()\n",
    "model.add(keras.layers.Flatten(input_shape=(13,)))\n",
    "model.add (keras.layers.Dense(1000,activation = 'relu'))\n",
    "model.add (keras.layers.Dense(100,activation = 'relu'))\n",
    "model.add (keras.layers.Dense(20,activation = 'relu'))\n",
    "model.add(keras.layers.Dense(1,activation = 'sigmoid'))\n",
    "model.compile(optimizer = 'Adam', loss= 'binary_crossentropy',metrics = 'accuracy')\n",
    "model.fit(x,y,epochs = 250)\n",
    "pred = model.predict(xt)"
   ]
  },
  {
   "cell_type": "code",
   "execution_count": 92,
   "id": "a8993579-9faf-464b-8b87-46f8a4ecf479",
   "metadata": {},
   "outputs": [
    {
     "name": "stdout",
     "output_type": "stream",
     "text": [
      "              precision    recall  f1-score   support\n",
      "\n",
      "         0.0       0.88      0.75      0.81      2073\n",
      "         1.0       0.70      0.85      0.77      1449\n",
      "\n",
      "    accuracy                           0.79      3522\n",
      "   macro avg       0.79      0.80      0.79      3522\n",
      "weighted avg       0.81      0.79      0.79      3522\n",
      "\n"
     ]
    }
   ],
   "source": [
    "pred = np.round(pred)\n",
    "accuracy_score(pred,yt)\n",
    "confusion_matrix(pred,yt)\n",
    "# accuracy_score(pred,yt)\n",
    "from sklearn.metrics import classification_report\n",
    "print(classification_report(pred,yt))\n"
   ]
  },
  {
   "cell_type": "code",
   "execution_count": 101,
   "id": "1d4493f6-f56a-4f42-ab8e-754bacabdf64",
   "metadata": {},
   "outputs": [
    {
     "name": "stdout",
     "output_type": "stream",
     "text": [
      "              precision    recall  f1-score   support\n",
      "\n",
      "         0.0       0.84      0.91      0.88      2410\n",
      "         1.0       0.92      0.86      0.89      2846\n",
      "\n",
      "    accuracy                           0.88      5256\n",
      "   macro avg       0.88      0.88      0.88      5256\n",
      "weighted avg       0.88      0.88      0.88      5256\n",
      "\n"
     ]
    }
   ],
   "source": [
    "pred = np.round(pred)\n",
    "accuracy_score(pred,yt)\n",
    "confusion_matrix(pred,yt)\n",
    "# accuracy_score(pred,yt)\n",
    "from sklearn.metrics import classification_report\n",
    "print(classification_report(pred,yt))\n"
   ]
  },
  {
   "cell_type": "code",
   "execution_count": null,
   "id": "0f451f0c-3632-4750-a420-eef9ed695175",
   "metadata": {},
   "outputs": [],
   "source": []
  },
  {
   "cell_type": "code",
   "execution_count": null,
   "id": "f19f68b0-fe8c-440f-bb83-6bd73d4c7c7f",
   "metadata": {},
   "outputs": [],
   "source": []
  },
  {
   "cell_type": "code",
   "execution_count": null,
   "id": "99884083-57c3-4a0e-9414-5370fbfc3323",
   "metadata": {},
   "outputs": [],
   "source": []
  },
  {
   "cell_type": "code",
   "execution_count": null,
   "id": "7418d92c-d8bb-44ea-b8cf-45ad05811cf3",
   "metadata": {},
   "outputs": [],
   "source": []
  },
  {
   "cell_type": "code",
   "execution_count": null,
   "id": "631dd014-6ec5-4d5b-aa9e-6ef50a81a0a3",
   "metadata": {},
   "outputs": [],
   "source": []
  }
 ],
 "metadata": {
  "kernelspec": {
   "display_name": "Python 3 (ipykernel)",
   "language": "python",
   "name": "python3"
  },
  "language_info": {
   "codemirror_mode": {
    "name": "ipython",
    "version": 3
   },
   "file_extension": ".py",
   "mimetype": "text/x-python",
   "name": "python",
   "nbconvert_exporter": "python",
   "pygments_lexer": "ipython3",
   "version": "3.10.7"
  }
 },
 "nbformat": 4,
 "nbformat_minor": 5
}
